{
  "nbformat": 4,
  "nbformat_minor": 0,
  "metadata": {
    "colab": {
      "name": "image_to_sketch.ipynb",
      "provenance": [],
      "include_colab_link": true
    },
    "kernelspec": {
      "name": "python3",
      "display_name": "Python 3"
    }
  },
  "cells": [
    {
      "cell_type": "markdown",
      "metadata": {
        "id": "view-in-github",
        "colab_type": "text"
      },
      "source": [
        "<a href=\"https://colab.research.google.com/github/DwiAriefAdityah/image-to-sketch/blob/master/image_to_sketch.ipynb\" target=\"_parent\"><img src=\"https://colab.research.google.com/assets/colab-badge.svg\" alt=\"Open In Colab\"/></a>"
      ]
    },
    {
      "cell_type": "code",
      "metadata": {
        "id": "VHoCPVslAUUA",
        "colab_type": "code",
        "colab": {}
      },
      "source": [
        "import numpy as np \n",
        "import imageio\n",
        "import scipy.ndimage\n",
        "import cv2\n",
        "\n",
        "# img=\"E:\\Teknologi Informasi\\\\Semester 7\\\\3. Mesin Learning II\\\\Projek\\\\imag-to-sketch\\\\Foto_UnFormal.jpg\"\n",
        "\n",
        "# def grayscale(rgb):\n",
        "# \treturn np.dot(rgb[...,:3],[0.299,0.587,0.114])\n",
        "\n",
        "# def dodge(front,back):\n",
        "# \tresult=front*255/(255-back)\n",
        "# \tresult[result>255]=255\n",
        "# \tresult[back==255]=255\n",
        "# \treturn result.astype('uint8')\n",
        "\n",
        "# s=imageio.imread(img)\n",
        "# g=grayscale(s)\n",
        "# i=255-g\n",
        "\n",
        "# b=scipy.ndimage.filters.gaussian_filter(i,sigma=10)\n",
        "# r=dodge(b,g)\n",
        "\n",
        "# cv2.imwrite('E:\\Teknologi Informasi\\\\Semester 7\\\\3. Mesin Learning II\\\\Projek\\\\imag-to-sketch\\\\1.png',r)"
      ],
      "execution_count": 0,
      "outputs": []
    },
    {
      "cell_type": "code",
      "metadata": {
        "id": "Spbd6GoVAZM_",
        "colab_type": "code",
        "colab": {}
      },
      "source": [
        ""
      ],
      "execution_count": 0,
      "outputs": []
    }
  ]
}